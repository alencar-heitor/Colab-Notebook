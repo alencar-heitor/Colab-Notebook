{
  "nbformat": 4,
  "nbformat_minor": 0,
  "metadata": {
    "colab": {
      "provenance": [],
      "mount_file_id": "1FaCLiCwoGBS_A22cYsYlY-2ckekXNpo6",
      "authorship_tag": "ABX9TyO6N+QUzU2gZO8uadh2NMQ8",
      "include_colab_link": true
    },
    "kernelspec": {
      "name": "python3",
      "display_name": "Python 3"
    },
    "language_info": {
      "name": "python"
    }
  },
  "cells": [
    {
      "cell_type": "markdown",
      "metadata": {
        "id": "view-in-github",
        "colab_type": "text"
      },
      "source": [
        "<a href=\"https://colab.research.google.com/github/alencar-heitor/Colab-Notebook/blob/main/Regress%C3%A3o.ipynb\" target=\"_parent\"><img src=\"https://colab.research.google.com/assets/colab-badge.svg\" alt=\"Open In Colab\"/></a>"
      ]
    },
    {
      "cell_type": "markdown",
      "source": [
        "Importando"
      ],
      "metadata": {
        "id": "Cw-vALq84acg"
      }
    },
    {
      "cell_type": "code",
      "execution_count": null,
      "metadata": {
        "id": "M9Qc3ta6yQ_d"
      },
      "outputs": [],
      "source": [
        "try:\n",
        "  import sklearn\n",
        "  from sklearn import datasets\n",
        "  from sklearn.model_selection import train_test_split\n",
        "  from sklearn.metrics import *\n",
        "  import pandas as pd\n",
        "  import matplotlib.pyplot as plt\n",
        "  import seaborn as sns\n",
        "  import warnings\n",
        "  warnings.filterwarnings(\"ignore\")\n",
        "except Exception as err:\n",
        "  print(err)\n"
      ]
    },
    {
      "cell_type": "markdown",
      "source": [
        "Carregando Database"
      ],
      "metadata": {
        "id": "8y-bwF-O4hXa"
      }
    },
    {
      "cell_type": "code",
      "source": [
        "batimentos = pd.read_csv('/content/drive/MyDrive/DSA/Datasets/batimentos_cardiacos.csv', sep=\",\")\n",
        "colesterol = pd.read_csv('/content/drive/MyDrive/DSA/Datasets/colesterol.csv')"
      ],
      "metadata": {
        "id": "jKrRfAzz0Pae"
      },
      "execution_count": null,
      "outputs": []
    },
    {
      "cell_type": "markdown",
      "source": [
        "# Separando Treino e Teste - Regressão"
      ],
      "metadata": {
        "id": "TRtMg4_CMakj"
      }
    },
    {
      "cell_type": "code",
      "source": [
        "X = batimentos[['Peso','Idade']]\n",
        "y = batimentos['Batimentos cardiacos']\n",
        "\n",
        "SEED=24\n",
        "x_treino, x_teste, y_treino, y_teste = train_test_split(X, y, random_state = SEED)\n"
      ],
      "metadata": {
        "id": "EX7IsDN5VwJl"
      },
      "execution_count": null,
      "outputs": []
    },
    {
      "cell_type": "markdown",
      "source": [
        "Treinamento"
      ],
      "metadata": {
        "id": "Ait0SX4UWc-X"
      }
    },
    {
      "cell_type": "code",
      "source": [
        "from sklearn import linear_model\n",
        "from sklearn.pipeline import make_pipeline\n",
        "from sklearn.preprocessing import StandardScaler\n",
        "modelo_linear = make_pipeline(StandardScaler(with_mean=False), linear_model.LinearRegression(fit_intercept=False, normalize=True))\n",
        "modelo_linear.fit(x_treino, y_treino)\n",
        "print(modelo_linear.score(x_teste, y_teste))\n",
        "print(explained_variance_score(y_teste, modelo_linear.predict(x_teste)))"
      ],
      "metadata": {
        "colab": {
          "base_uri": "https://localhost:8080/"
        },
        "id": "3OCcc3NsWeky",
        "outputId": "aab351d0-e020-437c-b837-a82cc286b502"
      },
      "execution_count": null,
      "outputs": [
        {
          "output_type": "stream",
          "name": "stdout",
          "text": [
            "0.9865250911261282\n",
            "0.986655449896465\n"
          ]
        }
      ]
    },
    {
      "cell_type": "code",
      "source": [
        "sns.set()\n",
        "plt.figure(figsize=(100, 50))\n",
        "\n",
        "sns.lmplot(x='Peso', y='Batimentos cardiacos', data=batimentos,line_kws={'color':'red'})\n",
        "plt.show()"
      ],
      "metadata": {
        "colab": {
          "base_uri": "https://localhost:8080/",
          "height": 382
        },
        "id": "I2A78Lh3LlMh",
        "outputId": "a475903e-8494-4ab8-a80a-9c83ae0989ab"
      },
      "execution_count": null,
      "outputs": [
        {
          "output_type": "display_data",
          "data": {
            "text/plain": [
              "<Figure size 7200x3600 with 0 Axes>"
            ]
          },
          "metadata": {}
        },
        {
          "output_type": "display_data",
          "data": {
            "image/png": "[encoded data removed]",
            "text/plain": [
              "<Figure size 360x360 with 1 Axes>"
            ]
          },
          "metadata": {}
        }
      ]
    }
  ]
}